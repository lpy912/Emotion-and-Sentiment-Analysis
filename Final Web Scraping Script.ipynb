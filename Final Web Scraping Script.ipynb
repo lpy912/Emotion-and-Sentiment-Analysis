{
 "cells": [
  {
   "cell_type": "code",
   "execution_count": 64,
   "metadata": {},
   "outputs": [],
   "source": [
    "from time import sleep\n",
    "from selenium import webdriver\n",
    "from bs4 import BeautifulSoup as soup\n",
    "import pandas as pd\n",
    "from selenium.webdriver.common.keys import Keys\n",
    "import time"
   ]
  },
  {
   "cell_type": "code",
   "execution_count": 65,
   "metadata": {},
   "outputs": [],
   "source": [
    "#chromedriver\n",
    "browser = webdriver.Chrome(\"C:\\\\Users\\\\loel7003\\\\Downloads\\\\chromedriver_win32\\\\chromedriver\")\n",
    "\n",
    "#google playstore app id url here\n",
    "app_url_id =\"https://play.google.com/store/apps/details?id=my.com.maybank2u.m2umobile&showAllReviews=true\"\n",
    "review_list = []\n",
    "browser.get(app_url_id)\n",
    "sleep(3)"
   ]
  },
  {
   "cell_type": "code",
   "execution_count": 66,
   "metadata": {},
   "outputs": [],
   "source": [
    "x = 5"
   ]
  },
  {
   "cell_type": "code",
   "execution_count": 67,
   "metadata": {},
   "outputs": [],
   "source": [
    "num_clicks = 0\n",
    "num_scrolls = 0\n",
    "while num_clicks <= x and num_scrolls <= x*5:\n",
    "    try:\n",
    "        element = browser.find_element_by_xpath(\"/html/body/div[1]/div[4]/c-wiz/div/div[2]/div/div[1]/div/div/div[1]/div[2]/div[2]/div\").click()\n",
    "        num_clicks += 1\n",
    "        time.sleep(1)\n",
    "        \n",
    "    except:\n",
    "        html = browser.find_element_by_tag_name('html')\n",
    "        html.send_keys(Keys.END)\n",
    "        num_scrolls +=1\n",
    "        time.sleep(2)\n",
    "            "
   ]
  },
  {
   "cell_type": "code",
   "execution_count": 75,
   "metadata": {},
   "outputs": [],
   "source": [
    "def scrape_reviews():\n",
    "    #navigate to BeautifulSoup\n",
    "    source = soup(browser.page_source,\"html.parser\")\n",
    "    user_data = source.find_all(\"div\", class_=\"zc7KVe\")\n",
    "    for items in user_data:\n",
    "        d={}\n",
    "        d[\"names\"] = items.find(\"span\", {\"class\":\"X43Kjb\"}).text\n",
    "        d[\"rate\"] = items.find(\"div\", class_ = \"pf5lIe\").text\n",
    "        d[\"date\"] = items.find(\"span\", class_=\"p2TkOb\").text\n",
    "        try:\n",
    "            #d[\"reviews\"]=items.find(\"div\",class_=\"UD7Dzf\").find(\"span\").text\n",
    "            d[\"full reviews\"]= items.find(\"div\", class_=\"UD7Dzf\").find(\"span\", jsname=\"fbQN7e\").text\n",
    "            #<span jsname=\"fbQN7e\" style=\"\">\n",
    "        except:\n",
    "            #d[\"reviews\"]=None\n",
    "            d[\"full reviews\"] = None\n",
    "        review_list.append(d)"
   ]
  },
  {
   "cell_type": "code",
   "execution_count": 76,
   "metadata": {},
   "outputs": [],
   "source": [
    "scrape_reviews()"
   ]
  },
  {
   "cell_type": "code",
   "execution_count": 78,
   "metadata": {},
   "outputs": [
    {
     "ename": "ValueError",
     "evalue": "list.remove(x): x not in list",
     "output_type": "error",
     "traceback": [
      "\u001b[1;31m---------------------------------------------------------------------------\u001b[0m",
      "\u001b[1;31mValueError\u001b[0m                                Traceback (most recent call last)",
      "\u001b[1;32m<ipython-input-78-9a8fd49e2fe3>\u001b[0m in \u001b[0;36m<module>\u001b[1;34m()\u001b[0m\n\u001b[0;32m      3\u001b[0m     \u001b[1;32mfor\u001b[0m \u001b[0mk\u001b[0m\u001b[1;33m,\u001b[0m\u001b[0mv\u001b[0m \u001b[1;32min\u001b[0m \u001b[0mn\u001b[0m\u001b[1;33m.\u001b[0m\u001b[0mitems\u001b[0m\u001b[1;33m(\u001b[0m\u001b[1;33m)\u001b[0m\u001b[1;33m:\u001b[0m\u001b[1;33m\u001b[0m\u001b[0m\n\u001b[0;32m      4\u001b[0m         \u001b[1;32mif\u001b[0m \u001b[0mv\u001b[0m \u001b[1;33m==\u001b[0m \u001b[1;32mNone\u001b[0m\u001b[1;33m:\u001b[0m\u001b[1;33m\u001b[0m\u001b[0m\n\u001b[1;32m----> 5\u001b[1;33m             \u001b[0mreview_list\u001b[0m\u001b[1;33m.\u001b[0m\u001b[0mremove\u001b[0m\u001b[1;33m(\u001b[0m\u001b[0mn\u001b[0m\u001b[1;33m)\u001b[0m\u001b[1;33m\u001b[0m\u001b[0m\n\u001b[0m",
      "\u001b[1;31mValueError\u001b[0m: list.remove(x): x not in list"
     ]
    }
   ],
   "source": [
    "#remove duplicates\n",
    "for n in review_list:\n",
    "    for k,v in n.items():\n",
    "        if v == None:\n",
    "            review_list.remove(n)"
   ]
  },
  {
   "cell_type": "code",
   "execution_count": 79,
   "metadata": {},
   "outputs": [],
   "source": [
    "#convert to csv\n",
    "df1 = pd.DataFrame(review_list)\n",
    "df1.to_csv('reviews_list.csv', encoding='utf-8')"
   ]
  },
  {
   "cell_type": "code",
   "execution_count": 55,
   "metadata": {},
   "outputs": [],
   "source": [
    "browser.close()"
   ]
  },
  {
   "cell_type": "code",
   "execution_count": null,
   "metadata": {},
   "outputs": [],
   "source": []
  }
 ],
 "metadata": {
  "kernelspec": {
   "display_name": "Python 3",
   "language": "python",
   "name": "python3"
  },
  "language_info": {
   "codemirror_mode": {
    "name": "ipython",
    "version": 3
   },
   "file_extension": ".py",
   "mimetype": "text/x-python",
   "name": "python",
   "nbconvert_exporter": "python",
   "pygments_lexer": "ipython3",
   "version": "3.7.4"
  }
 },
 "nbformat": 4,
 "nbformat_minor": 2
}
